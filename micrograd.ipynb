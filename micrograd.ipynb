{
 "cells": [
  {
   "cell_type": "code",
   "execution_count": 5,
   "metadata": {},
   "outputs": [],
   "source": [
    "import math\n",
    "import numpy as np\n",
    "import matplotlib.pyplot as plt\n",
    "\n",
    "%matplotlib inline\n",
    "\n",
    "def f(x):\n",
    "    return 3*x**2 - 4*x + 5"
   ]
  },
  {
   "cell_type": "markdown",
   "metadata": {},
   "source": [
    "To plot a charge, define the x values, and then calculate the y values from those x values"
   ]
  },
  {
   "cell_type": "code",
   "execution_count": 16,
   "metadata": {},
   "outputs": [
    {
     "data": {
      "text/plain": [
       "[<matplotlib.lines.Line2D at 0x112808b80>]"
      ]
     },
     "execution_count": 16,
     "metadata": {},
     "output_type": "execute_result"
    },
    {
     "data": {
      "image/png": "[encoded data removed]",
      "text/plain": [
       "<Figure size 640x480 with 1 Axes>"
      ]
     },
     "metadata": {},
     "output_type": "display_data"
    }
   ],
   "source": [
    "x = np.arange(-5, 5, 1)\n",
    "y = f(x)\n",
    "plt.plot(x, y)"
   ]
  },
  {
   "cell_type": "markdown",
   "metadata": {},
   "source": [
    "To calculate deir"
   ]
  },
  {
   "cell_type": "code",
   "execution_count": 31,
   "metadata": {},
   "outputs": [
    {
     "name": "stdout",
     "output_type": "stream",
     "text": [
      "14.000003002223593\n"
     ]
    },
    {
     "data": {
      "text/plain": [
       "14.0"
      ]
     },
     "execution_count": 31,
     "metadata": {},
     "output_type": "execute_result"
    }
   ],
   "source": [
    "h = 0.000001\n",
    "x = 3.0\n",
    "print((f(x+h)- f(x))/h) # manual calculation \n",
    "6*x - 4 # the derivative"
   ]
  },
  {
   "cell_type": "markdown",
   "metadata": {},
   "source": [
    "Now, multi-variable derivatives"
   ]
  },
  {
   "cell_type": "code",
   "execution_count": 37,
   "metadata": {},
   "outputs": [
    {
     "name": "stdout",
     "output_type": "stream",
     "text": [
      "d1=4.0\n",
      "d2=3.997\n",
      "-3.0000000000001137\n"
     ]
    }
   ],
   "source": [
    "h = 0.001 # the change\n",
    "\n",
    "# inputs\n",
    "a = 2.0\n",
    "b = -3.0\n",
    "c = 10.0\n",
    "\n",
    "d1 = a*b + c\n",
    "a += h\n",
    "d2 = a*b + c\n",
    "print(f'{d1=}')\n",
    "print(f'{d2=}')\n",
    "print(f'{(d2 - d1)/h}')"
   ]
  },
  {
   "cell_type": "markdown",
   "metadata": {},
   "source": [
    "We will now do the above, but instead with a class object in Python.\n"
   ]
  },
  {
   "cell_type": "code",
   "execution_count": 41,
   "metadata": {},
   "outputs": [
    {
     "data": {
      "text/plain": [
       "self.data=4.0"
      ]
     },
     "execution_count": 41,
     "metadata": {},
     "output_type": "execute_result"
    }
   ],
   "source": []
  },
  {
   "cell_type": "code",
   "execution_count": 51,
   "metadata": {},
   "outputs": [
    {
     "data": {
      "text/plain": [
       "'+'"
      ]
     },
     "execution_count": 51,
     "metadata": {},
     "output_type": "execute_result"
    }
   ],
   "source": [
    "class Value:\n",
    "    def __init__(self, data, _children=(), _op=''):\n",
    "        self.data = data\n",
    "        self._prev = set(_children)\n",
    "        self._op = _op\n",
    "\n",
    "    def __repr__(self):\n",
    "        return f'{self.data=}'\n",
    "    def __add__(self, other):\n",
    "        return Value(self.data + other.data, (self, other), '+')\n",
    "\n",
    "    def __mul__(self, other):\n",
    "        return Value(self.data * other.data, (self, other), '*')\n",
    "\n",
    "    \n",
    "a = Value(2.0)\n",
    "b = Value(-3.0)\n",
    "c = Value(10.0)\n",
    "d= a*b+c\n",
    "d._prev\n",
    "d._op"
   ]
  },
  {
   "cell_type": "markdown",
   "metadata": {},
   "source": [
    "We now know for each value exactly how it was constructed. Let's try and plot this"
   ]
  },
  {
   "cell_type": "code",
   "execution_count": 64,
   "metadata": {},
   "outputs": [
    {
     "data": {
      "text/plain": [
       "'+'"
      ]
     },
     "execution_count": 64,
     "metadata": {},
     "output_type": "execute_result"
    }
   ],
   "source": [
    "class Value:\n",
    "    def __init__(self, data, _children=(), _op='', label=''):\n",
    "        self.data = data\n",
    "        self._prev = set(_children)\n",
    "        self._op = _op\n",
    "        self.label = label\n",
    "\n",
    "    def __repr__(self):\n",
    "        return f'{self.data=}'\n",
    "    def __add__(self, other):\n",
    "        return Value(self.data + other.data, (self, other), '+')\n",
    "\n",
    "    def __mul__(self, other):\n",
    "        return Value(self.data * other.data, (self, other), '*')\n",
    "\n",
    "    \n",
    "a = Value(2.0, label='a')\n",
    "b = Value(-3.0, label='b')\n",
    "c = Value(10.0, label='c')\n",
    "e = a*b\n",
    "e.label = 'e'\n",
    "d = e + c\n",
    "d.label = 'd'\n",
    "d= a*b+c\n",
    "d.label = 'd'\n",
    "d._prev\n",
    "d._op"
   ]
  },
  {
   "cell_type": "markdown",
   "metadata": {},
   "source": [
    "Now we will visualize. graphiz requires brew install graphviz"
   ]
  },
  {
   "cell_type": "code",
   "execution_count": 60,
   "metadata": {},
   "outputs": [
    {
     "data": {
      "image/svg+xml": [
       "<?xml version=\"1.0\" encoding=\"UTF-8\" standalone=\"no\"?>\n",
       "<!DOCTYPE svg PUBLIC \"-//W3C//DTD SVG 1.1//EN\"\n",
       " \"http://www.w3.org/Graphics/SVG/1.1/DTD/svg11.dtd\">\n",
       "<!-- Generated by graphviz version 12.1.0 (20240811.2233)\n",
       " -->\n",
       "<!-- Pages: 1 -->\n",
       "<svg width=\"578pt\" height=\"128pt\"\n",
       " viewBox=\"0.00 0.00 578.00 128.00\" xmlns=\"http://www.w3.org/2000/svg\" xmlns:xlink=\"http://www.w3.org/1999/xlink\">\n",
       "<g id=\"graph0\" class=\"graph\" transform=\"scale(1 1) rotate(0) translate(4 124)\">\n",
       "<polygon fill=\"white\" stroke=\"none\" points=\"-4,4 -4,-124 574,-124 574,4 -4,4\"/>\n",
       "<!-- 4607711840 -->\n",
       "<g id=\"node1\" class=\"node\">\n",
       "<title>4607711840</title>\n",
       "<polygon fill=\"none\" stroke=\"black\" points=\"0,-83.5 0,-119.5 107,-119.5 107,-83.5 0,-83.5\"/>\n",
       "<text text-anchor=\"middle\" x=\"11.38\" y=\"-96.7\" font-family=\"Times,serif\" font-size=\"14.00\">b</text>\n",
       "<polyline fill=\"none\" stroke=\"black\" points=\"22.75,-84 22.75,-119.5\"/>\n",
       "<text text-anchor=\"middle\" x=\"64.88\" y=\"-96.7\" font-family=\"Times,serif\" font-size=\"14.00\">data &#45;3.0000</text>\n",
       "</g>\n",
       "<!-- 4604699936* -->\n",
       "<g id=\"node6\" class=\"node\">\n",
       "<title>4604699936*</title>\n",
       "<ellipse fill=\"none\" stroke=\"black\" cx=\"170\" cy=\"-73.5\" rx=\"27\" ry=\"18\"/>\n",
       "<text text-anchor=\"middle\" x=\"170\" y=\"-68.45\" font-family=\"Times,serif\" font-size=\"14.00\">*</text>\n",
       "</g>\n",
       "<!-- 4607711840&#45;&gt;4604699936* -->\n",
       "<g id=\"edge4\" class=\"edge\">\n",
       "<title>4607711840&#45;&gt;4604699936*</title>\n",
       "<path fill=\"none\" stroke=\"black\" d=\"M107.39,-88.57C116.15,-86.42 125.05,-84.25 133.26,-82.24\"/>\n",
       "<polygon fill=\"black\" stroke=\"black\" points=\"133.97,-85.67 142.85,-79.89 132.3,-78.87 133.97,-85.67\"/>\n",
       "</g>\n",
       "<!-- 4604699264 -->\n",
       "<g id=\"node2\" class=\"node\">\n",
       "<title>4604699264</title>\n",
       "<polygon fill=\"none\" stroke=\"black\" points=\"467.5,-27.5 467.5,-63.5 570,-63.5 570,-27.5 467.5,-27.5\"/>\n",
       "<text text-anchor=\"middle\" x=\"478.88\" y=\"-40.7\" font-family=\"Times,serif\" font-size=\"14.00\">d</text>\n",
       "<polyline fill=\"none\" stroke=\"black\" points=\"490.25,-28 490.25,-63.5\"/>\n",
       "<text text-anchor=\"middle\" x=\"530.12\" y=\"-40.7\" font-family=\"Times,serif\" font-size=\"14.00\">data 4.0000</text>\n",
       "</g>\n",
       "<!-- 4604699264+ -->\n",
       "<g id=\"node3\" class=\"node\">\n",
       "<title>4604699264+</title>\n",
       "<ellipse fill=\"none\" stroke=\"black\" cx=\"404.5\" cy=\"-45.5\" rx=\"27\" ry=\"18\"/>\n",
       "<text text-anchor=\"middle\" x=\"404.5\" y=\"-40.45\" font-family=\"Times,serif\" font-size=\"14.00\">+</text>\n",
       "</g>\n",
       "<!-- 4604699264+&#45;&gt;4604699264 -->\n",
       "<g id=\"edge1\" class=\"edge\">\n",
       "<title>4604699264+&#45;&gt;4604699264</title>\n",
       "<path fill=\"none\" stroke=\"black\" d=\"M431.82,-45.5C439.21,-45.5 447.57,-45.5 456.1,-45.5\"/>\n",
       "<polygon fill=\"black\" stroke=\"black\" points=\"455.83,-49 465.83,-45.5 455.83,-42 455.83,-49\"/>\n",
       "</g>\n",
       "<!-- 4604699312 -->\n",
       "<g id=\"node4\" class=\"node\">\n",
       "<title>4604699312</title>\n",
       "<polygon fill=\"none\" stroke=\"black\" points=\"233,-0.5 233,-36.5 341.5,-36.5 341.5,-0.5 233,-0.5\"/>\n",
       "<text text-anchor=\"middle\" x=\"244\" y=\"-13.7\" font-family=\"Times,serif\" font-size=\"14.00\">c</text>\n",
       "<polyline fill=\"none\" stroke=\"black\" points=\"255,-1 255,-36.5\"/>\n",
       "<text text-anchor=\"middle\" x=\"298.25\" y=\"-13.7\" font-family=\"Times,serif\" font-size=\"14.00\">data 10.0000</text>\n",
       "</g>\n",
       "<!-- 4604699312&#45;&gt;4604699264+ -->\n",
       "<g id=\"edge3\" class=\"edge\">\n",
       "<title>4604699312&#45;&gt;4604699264+</title>\n",
       "<path fill=\"none\" stroke=\"black\" d=\"M341.83,-31.05C350.54,-33.09 359.37,-35.16 367.53,-37.07\"/>\n",
       "<polygon fill=\"black\" stroke=\"black\" points=\"366.52,-40.43 377.05,-39.3 368.11,-33.61 366.52,-40.43\"/>\n",
       "</g>\n",
       "<!-- 4604699936 -->\n",
       "<g id=\"node5\" class=\"node\">\n",
       "<title>4604699936</title>\n",
       "<polygon fill=\"none\" stroke=\"black\" points=\"234.12,-55.5 234.12,-91.5 340.38,-91.5 340.38,-55.5 234.12,-55.5\"/>\n",
       "<text text-anchor=\"middle\" x=\"245.12\" y=\"-68.7\" font-family=\"Times,serif\" font-size=\"14.00\">e</text>\n",
       "<polyline fill=\"none\" stroke=\"black\" points=\"256.12,-56 256.12,-91.5\"/>\n",
       "<text text-anchor=\"middle\" x=\"298.25\" y=\"-68.7\" font-family=\"Times,serif\" font-size=\"14.00\">data &#45;6.0000</text>\n",
       "</g>\n",
       "<!-- 4604699936&#45;&gt;4604699264+ -->\n",
       "<g id=\"edge5\" class=\"edge\">\n",
       "<title>4604699936&#45;&gt;4604699264+</title>\n",
       "<path fill=\"none\" stroke=\"black\" d=\"M340.82,-60.73C349.88,-58.53 359.11,-56.29 367.6,-54.22\"/>\n",
       "<polygon fill=\"black\" stroke=\"black\" points=\"368.27,-57.66 377.16,-51.9 366.62,-50.86 368.27,-57.66\"/>\n",
       "</g>\n",
       "<!-- 4604699936*&#45;&gt;4604699936 -->\n",
       "<g id=\"edge2\" class=\"edge\">\n",
       "<title>4604699936*&#45;&gt;4604699936</title>\n",
       "<path fill=\"none\" stroke=\"black\" d=\"M197.44,-73.5C205.1,-73.5 213.82,-73.5 222.73,-73.5\"/>\n",
       "<polygon fill=\"black\" stroke=\"black\" points=\"222.53,-77 232.53,-73.5 222.53,-70 222.53,-77\"/>\n",
       "</g>\n",
       "<!-- 4605197664 -->\n",
       "<g id=\"node7\" class=\"node\">\n",
       "<title>4605197664</title>\n",
       "<polygon fill=\"none\" stroke=\"black\" points=\"2.62,-28.5 2.62,-64.5 104.38,-64.5 104.38,-28.5 2.62,-28.5\"/>\n",
       "<text text-anchor=\"middle\" x=\"13.62\" y=\"-41.7\" font-family=\"Times,serif\" font-size=\"14.00\">a</text>\n",
       "<polyline fill=\"none\" stroke=\"black\" points=\"24.62,-29 24.62,-64.5\"/>\n",
       "<text text-anchor=\"middle\" x=\"64.5\" y=\"-41.7\" font-family=\"Times,serif\" font-size=\"14.00\">data 2.0000</text>\n",
       "</g>\n",
       "<!-- 4605197664&#45;&gt;4604699936* -->\n",
       "<g id=\"edge6\" class=\"edge\">\n",
       "<title>4605197664&#45;&gt;4604699936*</title>\n",
       "<path fill=\"none\" stroke=\"black\" d=\"M104.72,-58.34C114.16,-60.57 123.86,-62.86 132.78,-64.96\"/>\n",
       "<polygon fill=\"black\" stroke=\"black\" points=\"131.94,-68.36 142.48,-67.25 133.55,-61.54 131.94,-68.36\"/>\n",
       "</g>\n",
       "</g>\n",
       "</svg>\n"
      ],
      "text/plain": [
       "<graphviz.graphs.Digraph at 0x112dfce80>"
      ]
     },
     "execution_count": 60,
     "metadata": {},
     "output_type": "execute_result"
    }
   ],
   "source": [
    "# brew install graphviz\n",
    "# pip install graphviz\n",
    "from graphviz import Digraph\n",
    "def trace(root):\n",
    "    nodes, edges = set(), set()\n",
    "    def build(v):\n",
    "        if v not in nodes:\n",
    "            nodes.add(v)\n",
    "            for child in v._prev:\n",
    "                edges.add((child, v))\n",
    "                build(child)\n",
    "    build(root)\n",
    "    return nodes, edges\n",
    "\n",
    "def draw_dot(root, format='svg', rankdir='LR'):\n",
    "    \"\"\"\n",
    "    format: png | svg | ...\n",
    "    rankdir: TB (top to bottom graph) | LR (left to right)\n",
    "    \"\"\"\n",
    "    assert rankdir in ['LR', 'TB']\n",
    "    nodes, edges = trace(root)\n",
    "    dot = Digraph(format=format, graph_attr={'rankdir': rankdir}) #, node_attr={'rankdir': 'TB'})\n",
    "    \n",
    "    for n in nodes:\n",
    "        dot.node(name=str(id(n)), label = \"{ %s | data %.4f}\" % (n.label, n.data), shape='record')\n",
    "        if n._op:\n",
    "            dot.node(name=str(id(n)) + n._op, label=n._op)\n",
    "            dot.edge(str(id(n)) + n._op, str(id(n)))\n",
    "    \n",
    "    for n1, n2 in edges:\n",
    "        dot.edge(str(id(n1)), str(id(n2)) + n2._op)\n",
    "    \n",
    "    return dot\n",
    "\n",
    "draw_dot(d)"
   ]
  },
  {
   "cell_type": "markdown",
   "metadata": {},
   "source": [
    "We have a mathematical expression with inputs that produce a single output. Now we will create a final output."
   ]
  },
  {
   "cell_type": "code",
   "execution_count": 65,
   "metadata": {},
   "outputs": [
    {
     "ename": "AttributeError",
     "evalue": "'Value' object has no attribute 'grad'",
     "output_type": "error",
     "traceback": [
      "\u001b[0;31m---------------------------------------------------------------------------\u001b[0m",
      "\u001b[0;31mAttributeError\u001b[0m                            Traceback (most recent call last)",
      "Cell \u001b[0;32mIn[65], line 4\u001b[0m\n\u001b[1;32m      2\u001b[0m L \u001b[38;5;241m=\u001b[39m d \u001b[38;5;241m*\u001b[39m f\n\u001b[1;32m      3\u001b[0m L\u001b[38;5;241m.\u001b[39mlabel \u001b[38;5;241m=\u001b[39m \u001b[38;5;124m'\u001b[39m\u001b[38;5;124mL\u001b[39m\u001b[38;5;124m'\u001b[39m\n\u001b[0;32m----> 4\u001b[0m \u001b[43mdraw_dot\u001b[49m\u001b[43m(\u001b[49m\u001b[43mL\u001b[49m\u001b[43m)\u001b[49m\n",
      "Cell \u001b[0;32mIn[63], line 25\u001b[0m, in \u001b[0;36mdraw_dot\u001b[0;34m(root, format, rankdir)\u001b[0m\n\u001b[1;32m     22\u001b[0m dot \u001b[38;5;241m=\u001b[39m Digraph(\u001b[38;5;28mformat\u001b[39m\u001b[38;5;241m=\u001b[39m\u001b[38;5;28mformat\u001b[39m, graph_attr\u001b[38;5;241m=\u001b[39m{\u001b[38;5;124m'\u001b[39m\u001b[38;5;124mrankdir\u001b[39m\u001b[38;5;124m'\u001b[39m: rankdir}) \u001b[38;5;66;03m#, node_attr={'rankdir': 'TB'})\u001b[39;00m\n\u001b[1;32m     24\u001b[0m \u001b[38;5;28;01mfor\u001b[39;00m n \u001b[38;5;129;01min\u001b[39;00m nodes:\n\u001b[0;32m---> 25\u001b[0m     dot\u001b[38;5;241m.\u001b[39mnode(name\u001b[38;5;241m=\u001b[39m\u001b[38;5;28mstr\u001b[39m(\u001b[38;5;28mid\u001b[39m(n)), label \u001b[38;5;241m=\u001b[39m \u001b[38;5;124m\"\u001b[39m\u001b[38;5;124m{\u001b[39m\u001b[38;5;124m \u001b[39m\u001b[38;5;132;01m%s\u001b[39;00m\u001b[38;5;124m | data \u001b[39m\u001b[38;5;132;01m%.4f\u001b[39;00m\u001b[38;5;124m | grad \u001b[39m\u001b[38;5;132;01m%.4f\u001b[39;00m\u001b[38;5;124m}\u001b[39m\u001b[38;5;124m\"\u001b[39m \u001b[38;5;241m%\u001b[39m (n\u001b[38;5;241m.\u001b[39mlabel, n\u001b[38;5;241m.\u001b[39mdata, \u001b[43mn\u001b[49m\u001b[38;5;241;43m.\u001b[39;49m\u001b[43mgrad\u001b[49m), shape\u001b[38;5;241m=\u001b[39m\u001b[38;5;124m'\u001b[39m\u001b[38;5;124mrecord\u001b[39m\u001b[38;5;124m'\u001b[39m)\n\u001b[1;32m     26\u001b[0m     \u001b[38;5;28;01mif\u001b[39;00m n\u001b[38;5;241m.\u001b[39m_op:\n\u001b[1;32m     27\u001b[0m         dot\u001b[38;5;241m.\u001b[39mnode(name\u001b[38;5;241m=\u001b[39m\u001b[38;5;28mstr\u001b[39m(\u001b[38;5;28mid\u001b[39m(n)) \u001b[38;5;241m+\u001b[39m n\u001b[38;5;241m.\u001b[39m_op, label\u001b[38;5;241m=\u001b[39mn\u001b[38;5;241m.\u001b[39m_op)\n",
      "\u001b[0;31mAttributeError\u001b[0m: 'Value' object has no attribute 'grad'"
     ]
    }
   ],
   "source": [
    "f = Value(-2.0, label='f')\n",
    "L = d * f\n",
    "L.label = 'L'\n",
    "draw_dot(L)"
   ]
  },
  {
   "cell_type": "markdown",
   "metadata": {},
   "source": [
    "Now we want to run backpropogation.\n",
    "\n",
    "L is the loss function. The other variables are called the weights of the neural net. We will perform backpropogation by starting at L and determing the gradient at every node. So from the end go to the front"
   ]
  },
  {
   "cell_type": "code",
   "execution_count": 80,
   "metadata": {},
   "outputs": [
    {
     "data": {
      "text/plain": [
       "'+'"
      ]
     },
     "execution_count": 80,
     "metadata": {},
     "output_type": "execute_result"
    }
   ],
   "source": [
    "class Value:\n",
    "    def __init__(self, data, _children=(), _op='', label=''):\n",
    "        self.data = data\n",
    "        self.grad = 0   # assume gradient is zero\n",
    "        self._prev = set(_children)\n",
    "        self._op = _op\n",
    "        self.label = label\n",
    "\n",
    "    def __repr__(self):\n",
    "        return f'{self.data=}'\n",
    "    def __add__(self, other):\n",
    "        return Value(self.data + other.data, (self, other), '+')\n",
    "\n",
    "    def __mul__(self, other):\n",
    "        return Value(self.data * other.data, (self, other), '*')\n",
    "\n",
    "    \n",
    "a = Value(2.0, label='a')\n",
    "b = Value(-3.0, label='b')\n",
    "c = Value(10.0, label='c')\n",
    "e = a*b\n",
    "e.label = 'e'\n",
    "d = e + c\n",
    "d.label = 'd'\n",
    "d= a*b+c\n",
    "d.label = 'd'"
   ]
  },
  {
   "cell_type": "code",
   "execution_count": 67,
   "metadata": {},
   "outputs": [
    {
     "data": {
      "image/svg+xml": [
       "<?xml version=\"1.0\" encoding=\"UTF-8\" standalone=\"no\"?>\n",
       "<!DOCTYPE svg PUBLIC \"-//W3C//DTD SVG 1.1//EN\"\n",
       " \"http://www.w3.org/Graphics/SVG/1.1/DTD/svg11.dtd\">\n",
       "<!-- Generated by graphviz version 12.1.0 (20240811.2233)\n",
       " -->\n",
       "<!-- Pages: 1 -->\n",
       "<svg width=\"822pt\" height=\"128pt\"\n",
       " viewBox=\"0.00 0.00 821.75 128.00\" xmlns=\"http://www.w3.org/2000/svg\" xmlns:xlink=\"http://www.w3.org/1999/xlink\">\n",
       "<g id=\"graph0\" class=\"graph\" transform=\"scale(1 1) rotate(0) translate(4 124)\">\n",
       "<polygon fill=\"white\" stroke=\"none\" points=\"-4,4 -4,-124 817.75,-124 817.75,4 -4,4\"/>\n",
       "<!-- 4611767888 -->\n",
       "<g id=\"node1\" class=\"node\">\n",
       "<title>4611767888</title>\n",
       "<polygon fill=\"none\" stroke=\"black\" points=\"0,-83.5 0,-119.5 188.25,-119.5 188.25,-83.5 0,-83.5\"/>\n",
       "<text text-anchor=\"middle\" x=\"11.38\" y=\"-96.7\" font-family=\"Times,serif\" font-size=\"14.00\">b</text>\n",
       "<polyline fill=\"none\" stroke=\"black\" points=\"22.75,-84 22.75,-119.5\"/>\n",
       "<text text-anchor=\"middle\" x=\"64.88\" y=\"-96.7\" font-family=\"Times,serif\" font-size=\"14.00\">data &#45;3.0000</text>\n",
       "<polyline fill=\"none\" stroke=\"black\" points=\"107,-84 107,-119.5\"/>\n",
       "<text text-anchor=\"middle\" x=\"147.62\" y=\"-96.7\" font-family=\"Times,serif\" font-size=\"14.00\">grad 0.0000</text>\n",
       "</g>\n",
       "<!-- 4611803936* -->\n",
       "<g id=\"node3\" class=\"node\">\n",
       "<title>4611803936*</title>\n",
       "<ellipse fill=\"none\" stroke=\"black\" cx=\"251.25\" cy=\"-73.5\" rx=\"27\" ry=\"18\"/>\n",
       "<text text-anchor=\"middle\" x=\"251.25\" y=\"-68.45\" font-family=\"Times,serif\" font-size=\"14.00\">*</text>\n",
       "</g>\n",
       "<!-- 4611767888&#45;&gt;4611803936* -->\n",
       "<g id=\"edge4\" class=\"edge\">\n",
       "<title>4611767888&#45;&gt;4611803936*</title>\n",
       "<path fill=\"none\" stroke=\"black\" d=\"M188.49,-84.65C197.36,-83.05 205.93,-81.5 213.73,-80.09\"/>\n",
       "<polygon fill=\"black\" stroke=\"black\" points=\"214.2,-83.56 223.42,-78.34 212.95,-76.68 214.2,-83.56\"/>\n",
       "</g>\n",
       "<!-- 4611803936 -->\n",
       "<g id=\"node2\" class=\"node\">\n",
       "<title>4611803936</title>\n",
       "<polygon fill=\"none\" stroke=\"black\" points=\"316.5,-55.5 316.5,-91.5 501.75,-91.5 501.75,-55.5 316.5,-55.5\"/>\n",
       "<text text-anchor=\"middle\" x=\"326.38\" y=\"-68.7\" font-family=\"Times,serif\" font-size=\"14.00\"> </text>\n",
       "<polyline fill=\"none\" stroke=\"black\" points=\"336.25,-56 336.25,-91.5\"/>\n",
       "<text text-anchor=\"middle\" x=\"378.38\" y=\"-68.7\" font-family=\"Times,serif\" font-size=\"14.00\">data &#45;6.0000</text>\n",
       "<polyline fill=\"none\" stroke=\"black\" points=\"420.5,-56 420.5,-91.5\"/>\n",
       "<text text-anchor=\"middle\" x=\"461.12\" y=\"-68.7\" font-family=\"Times,serif\" font-size=\"14.00\">grad 0.0000</text>\n",
       "</g>\n",
       "<!-- 4611801392+ -->\n",
       "<g id=\"node5\" class=\"node\">\n",
       "<title>4611801392+</title>\n",
       "<ellipse fill=\"none\" stroke=\"black\" cx=\"567\" cy=\"-45.5\" rx=\"27\" ry=\"18\"/>\n",
       "<text text-anchor=\"middle\" x=\"567\" y=\"-40.45\" font-family=\"Times,serif\" font-size=\"14.00\">+</text>\n",
       "</g>\n",
       "<!-- 4611803936&#45;&gt;4611801392+ -->\n",
       "<g id=\"edge5\" class=\"edge\">\n",
       "<title>4611803936&#45;&gt;4611801392+</title>\n",
       "<path fill=\"none\" stroke=\"black\" d=\"M502.15,-56.97C511.74,-55.25 521.03,-53.58 529.42,-52.07\"/>\n",
       "<polygon fill=\"black\" stroke=\"black\" points=\"529.91,-55.54 539.13,-50.33 528.67,-48.65 529.91,-55.54\"/>\n",
       "</g>\n",
       "<!-- 4611803936*&#45;&gt;4611803936 -->\n",
       "<g id=\"edge1\" class=\"edge\">\n",
       "<title>4611803936*&#45;&gt;4611803936</title>\n",
       "<path fill=\"none\" stroke=\"black\" d=\"M278.69,-73.5C286.37,-73.5 295.26,-73.5 304.7,-73.5\"/>\n",
       "<polygon fill=\"black\" stroke=\"black\" points=\"304.5,-77 314.5,-73.5 304.5,-70 304.5,-77\"/>\n",
       "</g>\n",
       "<!-- 4611801392 -->\n",
       "<g id=\"node4\" class=\"node\">\n",
       "<title>4611801392</title>\n",
       "<polygon fill=\"none\" stroke=\"black\" points=\"630,-27.5 630,-63.5 813.75,-63.5 813.75,-27.5 630,-27.5\"/>\n",
       "<text text-anchor=\"middle\" x=\"641.38\" y=\"-40.7\" font-family=\"Times,serif\" font-size=\"14.00\">d</text>\n",
       "<polyline fill=\"none\" stroke=\"black\" points=\"652.75,-28 652.75,-63.5\"/>\n",
       "<text text-anchor=\"middle\" x=\"692.62\" y=\"-40.7\" font-family=\"Times,serif\" font-size=\"14.00\">data 4.0000</text>\n",
       "<polyline fill=\"none\" stroke=\"black\" points=\"732.5,-28 732.5,-63.5\"/>\n",
       "<text text-anchor=\"middle\" x=\"773.12\" y=\"-40.7\" font-family=\"Times,serif\" font-size=\"14.00\">grad 0.0000</text>\n",
       "</g>\n",
       "<!-- 4611801392+&#45;&gt;4611801392 -->\n",
       "<g id=\"edge2\" class=\"edge\">\n",
       "<title>4611801392+&#45;&gt;4611801392</title>\n",
       "<path fill=\"none\" stroke=\"black\" d=\"M594.28,-45.5C601.42,-45.5 609.61,-45.5 618.32,-45.5\"/>\n",
       "<polygon fill=\"black\" stroke=\"black\" points=\"618.06,-49 628.06,-45.5 618.06,-42 618.06,-49\"/>\n",
       "</g>\n",
       "<!-- 4611764672 -->\n",
       "<g id=\"node6\" class=\"node\">\n",
       "<title>4611764672</title>\n",
       "<polygon fill=\"none\" stroke=\"black\" points=\"2.62,-28.5 2.62,-64.5 185.62,-64.5 185.62,-28.5 2.62,-28.5\"/>\n",
       "<text text-anchor=\"middle\" x=\"13.62\" y=\"-41.7\" font-family=\"Times,serif\" font-size=\"14.00\">a</text>\n",
       "<polyline fill=\"none\" stroke=\"black\" points=\"24.62,-29 24.62,-64.5\"/>\n",
       "<text text-anchor=\"middle\" x=\"64.5\" y=\"-41.7\" font-family=\"Times,serif\" font-size=\"14.00\">data 2.0000</text>\n",
       "<polyline fill=\"none\" stroke=\"black\" points=\"104.38,-29 104.38,-64.5\"/>\n",
       "<text text-anchor=\"middle\" x=\"145\" y=\"-41.7\" font-family=\"Times,serif\" font-size=\"14.00\">grad 0.0000</text>\n",
       "</g>\n",
       "<!-- 4611764672&#45;&gt;4611803936* -->\n",
       "<g id=\"edge3\" class=\"edge\">\n",
       "<title>4611764672&#45;&gt;4611803936*</title>\n",
       "<path fill=\"none\" stroke=\"black\" d=\"M185.81,-62.28C195.45,-63.96 204.82,-65.59 213.29,-67.07\"/>\n",
       "<polygon fill=\"black\" stroke=\"black\" points=\"212.65,-70.51 223.1,-68.77 213.85,-63.61 212.65,-70.51\"/>\n",
       "</g>\n",
       "<!-- 4611764720 -->\n",
       "<g id=\"node7\" class=\"node\">\n",
       "<title>4611764720</title>\n",
       "<polygon fill=\"none\" stroke=\"black\" points=\"314.25,-0.5 314.25,-36.5 504,-36.5 504,-0.5 314.25,-0.5\"/>\n",
       "<text text-anchor=\"middle\" x=\"325.25\" y=\"-13.7\" font-family=\"Times,serif\" font-size=\"14.00\">c</text>\n",
       "<polyline fill=\"none\" stroke=\"black\" points=\"336.25,-1 336.25,-36.5\"/>\n",
       "<text text-anchor=\"middle\" x=\"379.5\" y=\"-13.7\" font-family=\"Times,serif\" font-size=\"14.00\">data 10.0000</text>\n",
       "<polyline fill=\"none\" stroke=\"black\" points=\"422.75,-1 422.75,-36.5\"/>\n",
       "<text text-anchor=\"middle\" x=\"463.38\" y=\"-13.7\" font-family=\"Times,serif\" font-size=\"14.00\">grad 0.0000</text>\n",
       "</g>\n",
       "<!-- 4611764720&#45;&gt;4611801392+ -->\n",
       "<g id=\"edge6\" class=\"edge\">\n",
       "<title>4611764720&#45;&gt;4611801392+</title>\n",
       "<path fill=\"none\" stroke=\"black\" d=\"M504.39,-34.83C513.16,-36.35 521.65,-37.82 529.37,-39.15\"/>\n",
       "<polygon fill=\"black\" stroke=\"black\" points=\"528.5,-42.56 538.95,-40.81 529.69,-35.66 528.5,-42.56\"/>\n",
       "</g>\n",
       "</g>\n",
       "</svg>\n"
      ],
      "text/plain": [
       "<graphviz.graphs.Digraph at 0x111e0f730>"
      ]
     },
     "execution_count": 67,
     "metadata": {},
     "output_type": "execute_result"
    }
   ],
   "source": [
    "# brew install graphviz\n",
    "# pip install graphviz\n",
    "from graphviz import Digraph\n",
    "def trace(root):\n",
    "    nodes, edges = set(), set()\n",
    "    def build(v):\n",
    "        if v not in nodes:\n",
    "            nodes.add(v)\n",
    "            for child in v._prev:\n",
    "                edges.add((child, v))\n",
    "                build(child)\n",
    "    build(root)\n",
    "    return nodes, edges\n",
    "\n",
    "def draw_dot(root, format='svg', rankdir='LR'):\n",
    "    \"\"\"\n",
    "    format: png | svg | ...\n",
    "    rankdir: TB (top to bottom graph) | LR (left to right)\n",
    "    \"\"\"\n",
    "    assert rankdir in ['LR', 'TB']\n",
    "    nodes, edges = trace(root)\n",
    "    dot = Digraph(format=format, graph_attr={'rankdir': rankdir}) #, node_attr={'rankdir': 'TB'})\n",
    "    \n",
    "    for n in nodes:\n",
    "        dot.node(name=str(id(n)), label = \"{ %s | data %.4f | grad %.4f}\" % (n.label, n.data, n.grad), shape='record')\n",
    "        if n._op:\n",
    "            dot.node(name=str(id(n)) + n._op, label=n._op)\n",
    "            dot.edge(str(id(n)) + n._op, str(id(n)))\n",
    "    \n",
    "    for n1, n2 in edges:\n",
    "        dot.edge(str(id(n1)), str(id(n2)) + n2._op)\n",
    "    \n",
    "    return dot\n",
    "\n",
    "draw_dot(d)\n"
   ]
  },
  {
   "cell_type": "markdown",
   "metadata": {},
   "source": []
  },
  {
   "cell_type": "markdown",
   "metadata": {},
   "source": [
    "Now we will fill in these gradients. For L, the derivative is 1. When you change L by x, L will change by x amount. So 1 to 1."
   ]
  },
  {
   "cell_type": "code",
   "execution_count": 71,
   "metadata": {},
   "outputs": [],
   "source": [
    "L.grad = 1.0\n"
   ]
  },
  {
   "cell_type": "code",
   "execution_count": 73,
   "metadata": {},
   "outputs": [
    {
     "name": "stdout",
     "output_type": "stream",
     "text": [
      "6.000000000000227\n"
     ]
    }
   ],
   "source": [
    "def test_gradient():\n",
    "    h = 0.001\n",
    "\n",
    "    a = Value(2.0, label='a')\n",
    "    b = Value(-3.0, label='b')\n",
    "    c = Value(10.0, label='c')\n",
    "    e = a*b\n",
    "    e.label = 'e'\n",
    "    d = e + c\n",
    "    d.label = 'd'\n",
    "    f = Value(-2.0, label='f')\n",
    "    L = d * f; L.label = 'L'\n",
    "    L1 = L.data\n",
    "\n",
    "    a = Value(2.0 + h, label='a')\n",
    "    b = Value(-3.0, label='b')\n",
    "    c = Value(10.0, label='c')\n",
    "    e = a*b\n",
    "    e.label = 'e'\n",
    "    d = e + c\n",
    "    d.label = 'd'\n",
    "    f = Value(-2.0, label='f')\n",
    "    L = d * f; L.label = 'L'\n",
    "    L2 = L.data\n",
    "    # The derivative of L with respect to a\n",
    "    # Because we are increasing a by 0.001, we are seeing how that change changes L\n",
    "    print((L2 - L1)/h)\n",
    "test_gradient()"
   ]
  },
  {
   "cell_type": "markdown",
   "metadata": {},
   "source": [
    "Alternatively, we can change L with respect to H"
   ]
  },
  {
   "cell_type": "code",
   "execution_count": 75,
   "metadata": {},
   "outputs": [
    {
     "name": "stdout",
     "output_type": "stream",
     "text": [
      "1.000000000000334\n"
     ]
    }
   ],
   "source": [
    "def test_gradient():\n",
    "    h = 0.001\n",
    "\n",
    "    a = Value(2.0, label='a')\n",
    "    b = Value(-3.0, label='b')\n",
    "    c = Value(10.0, label='c')\n",
    "    e = a*b\n",
    "    e.label = 'e'\n",
    "    d = e + c\n",
    "    d.label = 'd'\n",
    "    f = Value(-2.0, label='f')\n",
    "    L = d * f; L.label = 'L'\n",
    "    L1 = L.data\n",
    "\n",
    "    a = Value(2.0 , label='a')\n",
    "    b = Value(-3.0, label='b')\n",
    "    c = Value(10.0, label='c')\n",
    "    e = a*b\n",
    "    e.label = 'e'\n",
    "    d = e + c\n",
    "    d.label = 'd'\n",
    "    f = Value(-2.0, label='f')\n",
    "    L = d * f; L.label = 'L'\n",
    "    L2 = L.data + h\n",
    "    # The derivative of L with respect to a\n",
    "    # Because we are increasing a by 0.001, we are seeing how that change changes L\n",
    "    print((L2 - L1)/h)\n",
    "test_gradient()\n"
   ]
  },
  {
   "cell_type": "markdown",
   "metadata": {},
   "source": [
    "So it is 1."
   ]
  },
  {
   "cell_type": "code",
   "execution_count": 78,
   "metadata": {},
   "outputs": [],
   "source": [
    "L = d * f\n"
   ]
  },
  {
   "cell_type": "code",
   "execution_count": 82,
   "metadata": {},
   "outputs": [
    {
     "data": {
      "image/svg+xml": [
       "<?xml version=\"1.0\" encoding=\"UTF-8\" standalone=\"no\"?>\n",
       "<!DOCTYPE svg PUBLIC \"-//W3C//DTD SVG 1.1//EN\"\n",
       " \"http://www.w3.org/Graphics/SVG/1.1/DTD/svg11.dtd\">\n",
       "<!-- Generated by graphviz version 12.1.0 (20240811.2233)\n",
       " -->\n",
       "<!-- Pages: 1 -->\n",
       "<svg width=\"1129pt\" height=\"128pt\"\n",
       " viewBox=\"0.00 0.00 1128.50 128.00\" xmlns=\"http://www.w3.org/2000/svg\" xmlns:xlink=\"http://www.w3.org/1999/xlink\">\n",
       "<g id=\"graph0\" class=\"graph\" transform=\"scale(1 1) rotate(0) translate(4 124)\">\n",
       "<polygon fill=\"white\" stroke=\"none\" points=\"-4,4 -4,-124 1124.5,-124 1124.5,4 -4,4\"/>\n",
       "<!-- 4614689792 -->\n",
       "<g id=\"node1\" class=\"node\">\n",
       "<title>4614689792</title>\n",
       "<polygon fill=\"none\" stroke=\"black\" points=\"939.75,-27.5 939.75,-63.5 1120.5,-63.5 1120.5,-27.5 939.75,-27.5\"/>\n",
       "<text text-anchor=\"middle\" x=\"949.62\" y=\"-40.7\" font-family=\"Times,serif\" font-size=\"14.00\"> </text>\n",
       "<polyline fill=\"none\" stroke=\"black\" points=\"959.5,-28 959.5,-63.5\"/>\n",
       "<text text-anchor=\"middle\" x=\"999.38\" y=\"-40.7\" font-family=\"Times,serif\" font-size=\"14.00\">data 8.0000</text>\n",
       "<polyline fill=\"none\" stroke=\"black\" points=\"1039.25,-28 1039.25,-63.5\"/>\n",
       "<text text-anchor=\"middle\" x=\"1079.88\" y=\"-40.7\" font-family=\"Times,serif\" font-size=\"14.00\">grad 1.0000</text>\n",
       "</g>\n",
       "<!-- 4614689792* -->\n",
       "<g id=\"node2\" class=\"node\">\n",
       "<title>4614689792*</title>\n",
       "<ellipse fill=\"none\" stroke=\"black\" cx=\"876.75\" cy=\"-45.5\" rx=\"27\" ry=\"18\"/>\n",
       "<text text-anchor=\"middle\" x=\"876.75\" y=\"-40.45\" font-family=\"Times,serif\" font-size=\"14.00\">*</text>\n",
       "</g>\n",
       "<!-- 4614689792*&#45;&gt;4614689792 -->\n",
       "<g id=\"edge1\" class=\"edge\">\n",
       "<title>4614689792*&#45;&gt;4614689792</title>\n",
       "<path fill=\"none\" stroke=\"black\" d=\"M904.12,-45.5C911.26,-45.5 919.45,-45.5 928.14,-45.5\"/>\n",
       "<polygon fill=\"black\" stroke=\"black\" points=\"927.86,-49 937.86,-45.5 927.86,-42 927.86,-49\"/>\n",
       "</g>\n",
       "<!-- 4614691952 -->\n",
       "<g id=\"node3\" class=\"node\">\n",
       "<title>4614691952</title>\n",
       "<polygon fill=\"none\" stroke=\"black\" points=\"630,-55.5 630,-91.5 813.75,-91.5 813.75,-55.5 630,-55.5\"/>\n",
       "<text text-anchor=\"middle\" x=\"641.38\" y=\"-68.7\" font-family=\"Times,serif\" font-size=\"14.00\">d</text>\n",
       "<polyline fill=\"none\" stroke=\"black\" points=\"652.75,-56 652.75,-91.5\"/>\n",
       "<text text-anchor=\"middle\" x=\"692.62\" y=\"-68.7\" font-family=\"Times,serif\" font-size=\"14.00\">data 4.0000</text>\n",
       "<polyline fill=\"none\" stroke=\"black\" points=\"732.5,-56 732.5,-91.5\"/>\n",
       "<text text-anchor=\"middle\" x=\"773.12\" y=\"-68.7\" font-family=\"Times,serif\" font-size=\"14.00\">grad 0.0000</text>\n",
       "</g>\n",
       "<!-- 4614691952&#45;&gt;4614689792* -->\n",
       "<g id=\"edge9\" class=\"edge\">\n",
       "<title>4614691952&#45;&gt;4614689792*</title>\n",
       "<path fill=\"none\" stroke=\"black\" d=\"M814.01,-56.81C822.84,-55.19 831.4,-53.62 839.19,-52.2\"/>\n",
       "<polygon fill=\"black\" stroke=\"black\" points=\"839.67,-55.67 848.88,-50.42 838.41,-48.78 839.67,-55.67\"/>\n",
       "</g>\n",
       "<!-- 4614691952+ -->\n",
       "<g id=\"node4\" class=\"node\">\n",
       "<title>4614691952+</title>\n",
       "<ellipse fill=\"none\" stroke=\"black\" cx=\"567\" cy=\"-73.5\" rx=\"27\" ry=\"18\"/>\n",
       "<text text-anchor=\"middle\" x=\"567\" y=\"-68.45\" font-family=\"Times,serif\" font-size=\"14.00\">+</text>\n",
       "</g>\n",
       "<!-- 4614691952+&#45;&gt;4614691952 -->\n",
       "<g id=\"edge2\" class=\"edge\">\n",
       "<title>4614691952+&#45;&gt;4614691952</title>\n",
       "<path fill=\"none\" stroke=\"black\" d=\"M594.28,-73.5C601.42,-73.5 609.61,-73.5 618.32,-73.5\"/>\n",
       "<polygon fill=\"black\" stroke=\"black\" points=\"618.06,-77 628.06,-73.5 618.06,-70 618.06,-77\"/>\n",
       "</g>\n",
       "<!-- 4614750944 -->\n",
       "<g id=\"node5\" class=\"node\">\n",
       "<title>4614750944</title>\n",
       "<polygon fill=\"none\" stroke=\"black\" points=\"314.25,-83.5 314.25,-119.5 504,-119.5 504,-83.5 314.25,-83.5\"/>\n",
       "<text text-anchor=\"middle\" x=\"325.25\" y=\"-96.7\" font-family=\"Times,serif\" font-size=\"14.00\">c</text>\n",
       "<polyline fill=\"none\" stroke=\"black\" points=\"336.25,-84 336.25,-119.5\"/>\n",
       "<text text-anchor=\"middle\" x=\"379.5\" y=\"-96.7\" font-family=\"Times,serif\" font-size=\"14.00\">data 10.0000</text>\n",
       "<polyline fill=\"none\" stroke=\"black\" points=\"422.75,-84 422.75,-119.5\"/>\n",
       "<text text-anchor=\"middle\" x=\"463.38\" y=\"-96.7\" font-family=\"Times,serif\" font-size=\"14.00\">grad 0.0000</text>\n",
       "</g>\n",
       "<!-- 4614750944&#45;&gt;4614691952+ -->\n",
       "<g id=\"edge5\" class=\"edge\">\n",
       "<title>4614750944&#45;&gt;4614691952+</title>\n",
       "<path fill=\"none\" stroke=\"black\" d=\"M504.39,-84.57C513.16,-82.99 521.65,-81.47 529.37,-80.08\"/>\n",
       "<polygon fill=\"black\" stroke=\"black\" points=\"529.73,-83.57 538.95,-78.36 528.49,-76.68 529.73,-83.57\"/>\n",
       "</g>\n",
       "<!-- 4614753008 -->\n",
       "<g id=\"node6\" class=\"node\">\n",
       "<title>4614753008</title>\n",
       "<polygon fill=\"none\" stroke=\"black\" points=\"0,-56.5 0,-92.5 188.25,-92.5 188.25,-56.5 0,-56.5\"/>\n",
       "<text text-anchor=\"middle\" x=\"11.38\" y=\"-69.7\" font-family=\"Times,serif\" font-size=\"14.00\">b</text>\n",
       "<polyline fill=\"none\" stroke=\"black\" points=\"22.75,-57 22.75,-92.5\"/>\n",
       "<text text-anchor=\"middle\" x=\"64.88\" y=\"-69.7\" font-family=\"Times,serif\" font-size=\"14.00\">data &#45;3.0000</text>\n",
       "<polyline fill=\"none\" stroke=\"black\" points=\"107,-57 107,-92.5\"/>\n",
       "<text text-anchor=\"middle\" x=\"147.62\" y=\"-69.7\" font-family=\"Times,serif\" font-size=\"14.00\">grad 0.0000</text>\n",
       "</g>\n",
       "<!-- 4614690560* -->\n",
       "<g id=\"node8\" class=\"node\">\n",
       "<title>4614690560*</title>\n",
       "<ellipse fill=\"none\" stroke=\"black\" cx=\"251.25\" cy=\"-46.5\" rx=\"27\" ry=\"18\"/>\n",
       "<text text-anchor=\"middle\" x=\"251.25\" y=\"-41.45\" font-family=\"Times,serif\" font-size=\"14.00\">*</text>\n",
       "</g>\n",
       "<!-- 4614753008&#45;&gt;4614690560* -->\n",
       "<g id=\"edge8\" class=\"edge\">\n",
       "<title>4614753008&#45;&gt;4614690560*</title>\n",
       "<path fill=\"none\" stroke=\"black\" d=\"M188.49,-57.65C197.36,-56.05 205.93,-54.5 213.73,-53.09\"/>\n",
       "<polygon fill=\"black\" stroke=\"black\" points=\"214.2,-56.56 223.42,-51.34 212.95,-49.68 214.2,-56.56\"/>\n",
       "</g>\n",
       "<!-- 4614690560 -->\n",
       "<g id=\"node7\" class=\"node\">\n",
       "<title>4614690560</title>\n",
       "<polygon fill=\"none\" stroke=\"black\" points=\"316.5,-28.5 316.5,-64.5 501.75,-64.5 501.75,-28.5 316.5,-28.5\"/>\n",
       "<text text-anchor=\"middle\" x=\"326.38\" y=\"-41.7\" font-family=\"Times,serif\" font-size=\"14.00\"> </text>\n",
       "<polyline fill=\"none\" stroke=\"black\" points=\"336.25,-29 336.25,-64.5\"/>\n",
       "<text text-anchor=\"middle\" x=\"378.38\" y=\"-41.7\" font-family=\"Times,serif\" font-size=\"14.00\">data &#45;6.0000</text>\n",
       "<polyline fill=\"none\" stroke=\"black\" points=\"420.5,-29 420.5,-64.5\"/>\n",
       "<text text-anchor=\"middle\" x=\"461.12\" y=\"-41.7\" font-family=\"Times,serif\" font-size=\"14.00\">grad 0.0000</text>\n",
       "</g>\n",
       "<!-- 4614690560&#45;&gt;4614691952+ -->\n",
       "<g id=\"edge7\" class=\"edge\">\n",
       "<title>4614690560&#45;&gt;4614691952+</title>\n",
       "<path fill=\"none\" stroke=\"black\" d=\"M502.15,-62.44C511.65,-64.09 520.86,-65.68 529.19,-67.12\"/>\n",
       "<polygon fill=\"black\" stroke=\"black\" points=\"528.38,-70.53 538.83,-68.79 529.57,-63.64 528.38,-70.53\"/>\n",
       "</g>\n",
       "<!-- 4614690560*&#45;&gt;4614690560 -->\n",
       "<g id=\"edge3\" class=\"edge\">\n",
       "<title>4614690560*&#45;&gt;4614690560</title>\n",
       "<path fill=\"none\" stroke=\"black\" d=\"M278.69,-46.5C286.37,-46.5 295.26,-46.5 304.7,-46.5\"/>\n",
       "<polygon fill=\"black\" stroke=\"black\" points=\"304.5,-50 314.5,-46.5 304.5,-43 304.5,-50\"/>\n",
       "</g>\n",
       "<!-- 4614753056 -->\n",
       "<g id=\"node9\" class=\"node\">\n",
       "<title>4614753056</title>\n",
       "<polygon fill=\"none\" stroke=\"black\" points=\"2.62,-1.5 2.62,-37.5 185.62,-37.5 185.62,-1.5 2.62,-1.5\"/>\n",
       "<text text-anchor=\"middle\" x=\"13.62\" y=\"-14.7\" font-family=\"Times,serif\" font-size=\"14.00\">a</text>\n",
       "<polyline fill=\"none\" stroke=\"black\" points=\"24.62,-2 24.62,-37.5\"/>\n",
       "<text text-anchor=\"middle\" x=\"64.5\" y=\"-14.7\" font-family=\"Times,serif\" font-size=\"14.00\">data 2.0000</text>\n",
       "<polyline fill=\"none\" stroke=\"black\" points=\"104.38,-2 104.38,-37.5\"/>\n",
       "<text text-anchor=\"middle\" x=\"145\" y=\"-14.7\" font-family=\"Times,serif\" font-size=\"14.00\">grad 0.0000</text>\n",
       "</g>\n",
       "<!-- 4614753056&#45;&gt;4614690560* -->\n",
       "<g id=\"edge4\" class=\"edge\">\n",
       "<title>4614753056&#45;&gt;4614690560*</title>\n",
       "<path fill=\"none\" stroke=\"black\" d=\"M185.81,-35.28C195.45,-36.96 204.82,-38.59 213.29,-40.07\"/>\n",
       "<polygon fill=\"black\" stroke=\"black\" points=\"212.65,-43.51 223.1,-41.77 213.85,-36.61 212.65,-43.51\"/>\n",
       "</g>\n",
       "<!-- 4614180816 -->\n",
       "<g id=\"node10\" class=\"node\">\n",
       "<title>4614180816</title>\n",
       "<polygon fill=\"none\" stroke=\"black\" points=\"631.12,-0.5 631.12,-36.5 812.62,-36.5 812.62,-0.5 631.12,-0.5\"/>\n",
       "<text text-anchor=\"middle\" x=\"641.38\" y=\"-13.7\" font-family=\"Times,serif\" font-size=\"14.00\">f</text>\n",
       "<polyline fill=\"none\" stroke=\"black\" points=\"651.62,-1 651.62,-36.5\"/>\n",
       "<text text-anchor=\"middle\" x=\"691.5\" y=\"-13.7\" font-family=\"Times,serif\" font-size=\"14.00\">data 2.0000</text>\n",
       "<polyline fill=\"none\" stroke=\"black\" points=\"731.38,-1 731.38,-36.5\"/>\n",
       "<text text-anchor=\"middle\" x=\"772\" y=\"-13.7\" font-family=\"Times,serif\" font-size=\"14.00\">grad 0.0000</text>\n",
       "</g>\n",
       "<!-- 4614180816&#45;&gt;4614689792* -->\n",
       "<g id=\"edge6\" class=\"edge\">\n",
       "<title>4614180816&#45;&gt;4614689792*</title>\n",
       "<path fill=\"none\" stroke=\"black\" d=\"M812.69,-34.36C821.94,-36 830.93,-37.58 839.08,-39.02\"/>\n",
       "<polygon fill=\"black\" stroke=\"black\" points=\"838.41,-42.46 848.87,-40.75 839.63,-35.57 838.41,-42.46\"/>\n",
       "</g>\n",
       "</g>\n",
       "</svg>\n"
      ],
      "text/plain": [
       "<graphviz.graphs.Digraph at 0x1130d0a00>"
      ]
     },
     "execution_count": 82,
     "metadata": {},
     "output_type": "execute_result"
    }
   ],
   "source": [
    "class Value:\n",
    "    def __init__(self, data, _children=(), _op='', label=''):\n",
    "        self.data = data\n",
    "        self.grad = 0   # assume gradient is zero\n",
    "        self._prev = set(_children)\n",
    "        self._op = _op\n",
    "        self.label = label\n",
    "\n",
    "    def __repr__(self):\n",
    "        return f'{self.data=}'\n",
    "    def __add__(self, other):\n",
    "        return Value(self.data + other.data, (self, other), '+')\n",
    "\n",
    "    def __mul__(self, other):\n",
    "        return Value(self.data * other.data, (self, other), '*')\n",
    "\n",
    "    \n",
    "a = Value(2.0, label='a')\n",
    "b = Value(-3.0, label='b')\n",
    "c = Value(10.0, label='c')\n",
    "e = a*b\n",
    "e.label = 'e'\n",
    "d = e + c\n",
    "d.label = 'd'\n",
    "d= a*b+c\n",
    "d.label = 'd'\n",
    "f = Value(2.0, label='f')\n",
    "L = f * d\n",
    "L.grad = 1\n",
    "draw_dot(L)"
   ]
  },
  {
   "cell_type": "markdown",
   "metadata": {},
   "source": [
    "Let's continue with backpropogation\n",
    "\n",
    "What is the derivative of L with respect to d and f?\n",
    "\n",
    "For d: we would like to know what is dL/dd?\n",
    "L = d * f, so dL/dd = f. Proof below\n",
    "\n",
    "(f(x+h)-f(x))/h\n",
    "Plug in x = d, to get the derivative with respect to d? You plug in x = d\n",
    "(f(d+h)-f(d))/h\n",
    "(f*d + f*h - f*d)/h\n",
    "(f*h)/h\n",
    "f\n",
    "\n",
    "Therefore, the gradient of d is just the value of f.\n",
    "By symmetry, the same would hold for dL/df = d"
   ]
  },
  {
   "cell_type": "code",
   "execution_count": 84,
   "metadata": {},
   "outputs": [
    {
     "data": {
      "image/svg+xml": [
       "<?xml version=\"1.0\" encoding=\"UTF-8\" standalone=\"no\"?>\n",
       "<!DOCTYPE svg PUBLIC \"-//W3C//DTD SVG 1.1//EN\"\n",
       " \"http://www.w3.org/Graphics/SVG/1.1/DTD/svg11.dtd\">\n",
       "<!-- Generated by graphviz version 12.1.0 (20240811.2233)\n",
       " -->\n",
       "<!-- Pages: 1 -->\n",
       "<svg width=\"1129pt\" height=\"128pt\"\n",
       " viewBox=\"0.00 0.00 1128.50 128.00\" xmlns=\"http://www.w3.org/2000/svg\" xmlns:xlink=\"http://www.w3.org/1999/xlink\">\n",
       "<g id=\"graph0\" class=\"graph\" transform=\"scale(1 1) rotate(0) translate(4 124)\">\n",
       "<polygon fill=\"white\" stroke=\"none\" points=\"-4,4 -4,-124 1124.5,-124 1124.5,4 -4,4\"/>\n",
       "<!-- 4614689792 -->\n",
       "<g id=\"node1\" class=\"node\">\n",
       "<title>4614689792</title>\n",
       "<polygon fill=\"none\" stroke=\"black\" points=\"939.75,-27.5 939.75,-63.5 1120.5,-63.5 1120.5,-27.5 939.75,-27.5\"/>\n",
       "<text text-anchor=\"middle\" x=\"949.62\" y=\"-40.7\" font-family=\"Times,serif\" font-size=\"14.00\"> </text>\n",
       "<polyline fill=\"none\" stroke=\"black\" points=\"959.5,-28 959.5,-63.5\"/>\n",
       "<text text-anchor=\"middle\" x=\"999.38\" y=\"-40.7\" font-family=\"Times,serif\" font-size=\"14.00\">data 8.0000</text>\n",
       "<polyline fill=\"none\" stroke=\"black\" points=\"1039.25,-28 1039.25,-63.5\"/>\n",
       "<text text-anchor=\"middle\" x=\"1079.88\" y=\"-40.7\" font-family=\"Times,serif\" font-size=\"14.00\">grad 1.0000</text>\n",
       "</g>\n",
       "<!-- 4614689792* -->\n",
       "<g id=\"node2\" class=\"node\">\n",
       "<title>4614689792*</title>\n",
       "<ellipse fill=\"none\" stroke=\"black\" cx=\"876.75\" cy=\"-45.5\" rx=\"27\" ry=\"18\"/>\n",
       "<text text-anchor=\"middle\" x=\"876.75\" y=\"-40.45\" font-family=\"Times,serif\" font-size=\"14.00\">*</text>\n",
       "</g>\n",
       "<!-- 4614689792*&#45;&gt;4614689792 -->\n",
       "<g id=\"edge1\" class=\"edge\">\n",
       "<title>4614689792*&#45;&gt;4614689792</title>\n",
       "<path fill=\"none\" stroke=\"black\" d=\"M904.12,-45.5C911.26,-45.5 919.45,-45.5 928.14,-45.5\"/>\n",
       "<polygon fill=\"black\" stroke=\"black\" points=\"927.86,-49 937.86,-45.5 927.86,-42 927.86,-49\"/>\n",
       "</g>\n",
       "<!-- 4614691952 -->\n",
       "<g id=\"node3\" class=\"node\">\n",
       "<title>4614691952</title>\n",
       "<polygon fill=\"none\" stroke=\"black\" points=\"630,-55.5 630,-91.5 813.75,-91.5 813.75,-55.5 630,-55.5\"/>\n",
       "<text text-anchor=\"middle\" x=\"641.38\" y=\"-68.7\" font-family=\"Times,serif\" font-size=\"14.00\">d</text>\n",
       "<polyline fill=\"none\" stroke=\"black\" points=\"652.75,-56 652.75,-91.5\"/>\n",
       "<text text-anchor=\"middle\" x=\"692.62\" y=\"-68.7\" font-family=\"Times,serif\" font-size=\"14.00\">data 4.0000</text>\n",
       "<polyline fill=\"none\" stroke=\"black\" points=\"732.5,-56 732.5,-91.5\"/>\n",
       "<text text-anchor=\"middle\" x=\"773.12\" y=\"-68.7\" font-family=\"Times,serif\" font-size=\"14.00\">grad 2.0000</text>\n",
       "</g>\n",
       "<!-- 4614691952&#45;&gt;4614689792* -->\n",
       "<g id=\"edge9\" class=\"edge\">\n",
       "<title>4614691952&#45;&gt;4614689792*</title>\n",
       "<path fill=\"none\" stroke=\"black\" d=\"M814.01,-56.81C822.84,-55.19 831.4,-53.62 839.19,-52.2\"/>\n",
       "<polygon fill=\"black\" stroke=\"black\" points=\"839.67,-55.67 848.88,-50.42 838.41,-48.78 839.67,-55.67\"/>\n",
       "</g>\n",
       "<!-- 4614691952+ -->\n",
       "<g id=\"node4\" class=\"node\">\n",
       "<title>4614691952+</title>\n",
       "<ellipse fill=\"none\" stroke=\"black\" cx=\"567\" cy=\"-73.5\" rx=\"27\" ry=\"18\"/>\n",
       "<text text-anchor=\"middle\" x=\"567\" y=\"-68.45\" font-family=\"Times,serif\" font-size=\"14.00\">+</text>\n",
       "</g>\n",
       "<!-- 4614691952+&#45;&gt;4614691952 -->\n",
       "<g id=\"edge2\" class=\"edge\">\n",
       "<title>4614691952+&#45;&gt;4614691952</title>\n",
       "<path fill=\"none\" stroke=\"black\" d=\"M594.28,-73.5C601.42,-73.5 609.61,-73.5 618.32,-73.5\"/>\n",
       "<polygon fill=\"black\" stroke=\"black\" points=\"618.06,-77 628.06,-73.5 618.06,-70 618.06,-77\"/>\n",
       "</g>\n",
       "<!-- 4614750944 -->\n",
       "<g id=\"node5\" class=\"node\">\n",
       "<title>4614750944</title>\n",
       "<polygon fill=\"none\" stroke=\"black\" points=\"314.25,-83.5 314.25,-119.5 504,-119.5 504,-83.5 314.25,-83.5\"/>\n",
       "<text text-anchor=\"middle\" x=\"325.25\" y=\"-96.7\" font-family=\"Times,serif\" font-size=\"14.00\">c</text>\n",
       "<polyline fill=\"none\" stroke=\"black\" points=\"336.25,-84 336.25,-119.5\"/>\n",
       "<text text-anchor=\"middle\" x=\"379.5\" y=\"-96.7\" font-family=\"Times,serif\" font-size=\"14.00\">data 10.0000</text>\n",
       "<polyline fill=\"none\" stroke=\"black\" points=\"422.75,-84 422.75,-119.5\"/>\n",
       "<text text-anchor=\"middle\" x=\"463.38\" y=\"-96.7\" font-family=\"Times,serif\" font-size=\"14.00\">grad 0.0000</text>\n",
       "</g>\n",
       "<!-- 4614750944&#45;&gt;4614691952+ -->\n",
       "<g id=\"edge5\" class=\"edge\">\n",
       "<title>4614750944&#45;&gt;4614691952+</title>\n",
       "<path fill=\"none\" stroke=\"black\" d=\"M504.39,-84.57C513.16,-82.99 521.65,-81.47 529.37,-80.08\"/>\n",
       "<polygon fill=\"black\" stroke=\"black\" points=\"529.73,-83.57 538.95,-78.36 528.49,-76.68 529.73,-83.57\"/>\n",
       "</g>\n",
       "<!-- 4614753008 -->\n",
       "<g id=\"node6\" class=\"node\">\n",
       "<title>4614753008</title>\n",
       "<polygon fill=\"none\" stroke=\"black\" points=\"0,-56.5 0,-92.5 188.25,-92.5 188.25,-56.5 0,-56.5\"/>\n",
       "<text text-anchor=\"middle\" x=\"11.38\" y=\"-69.7\" font-family=\"Times,serif\" font-size=\"14.00\">b</text>\n",
       "<polyline fill=\"none\" stroke=\"black\" points=\"22.75,-57 22.75,-92.5\"/>\n",
       "<text text-anchor=\"middle\" x=\"64.88\" y=\"-69.7\" font-family=\"Times,serif\" font-size=\"14.00\">data &#45;3.0000</text>\n",
       "<polyline fill=\"none\" stroke=\"black\" points=\"107,-57 107,-92.5\"/>\n",
       "<text text-anchor=\"middle\" x=\"147.62\" y=\"-69.7\" font-family=\"Times,serif\" font-size=\"14.00\">grad 0.0000</text>\n",
       "</g>\n",
       "<!-- 4614690560* -->\n",
       "<g id=\"node8\" class=\"node\">\n",
       "<title>4614690560*</title>\n",
       "<ellipse fill=\"none\" stroke=\"black\" cx=\"251.25\" cy=\"-46.5\" rx=\"27\" ry=\"18\"/>\n",
       "<text text-anchor=\"middle\" x=\"251.25\" y=\"-41.45\" font-family=\"Times,serif\" font-size=\"14.00\">*</text>\n",
       "</g>\n",
       "<!-- 4614753008&#45;&gt;4614690560* -->\n",
       "<g id=\"edge8\" class=\"edge\">\n",
       "<title>4614753008&#45;&gt;4614690560*</title>\n",
       "<path fill=\"none\" stroke=\"black\" d=\"M188.49,-57.65C197.36,-56.05 205.93,-54.5 213.73,-53.09\"/>\n",
       "<polygon fill=\"black\" stroke=\"black\" points=\"214.2,-56.56 223.42,-51.34 212.95,-49.68 214.2,-56.56\"/>\n",
       "</g>\n",
       "<!-- 4614690560 -->\n",
       "<g id=\"node7\" class=\"node\">\n",
       "<title>4614690560</title>\n",
       "<polygon fill=\"none\" stroke=\"black\" points=\"316.5,-28.5 316.5,-64.5 501.75,-64.5 501.75,-28.5 316.5,-28.5\"/>\n",
       "<text text-anchor=\"middle\" x=\"326.38\" y=\"-41.7\" font-family=\"Times,serif\" font-size=\"14.00\"> </text>\n",
       "<polyline fill=\"none\" stroke=\"black\" points=\"336.25,-29 336.25,-64.5\"/>\n",
       "<text text-anchor=\"middle\" x=\"378.38\" y=\"-41.7\" font-family=\"Times,serif\" font-size=\"14.00\">data &#45;6.0000</text>\n",
       "<polyline fill=\"none\" stroke=\"black\" points=\"420.5,-29 420.5,-64.5\"/>\n",
       "<text text-anchor=\"middle\" x=\"461.12\" y=\"-41.7\" font-family=\"Times,serif\" font-size=\"14.00\">grad 0.0000</text>\n",
       "</g>\n",
       "<!-- 4614690560&#45;&gt;4614691952+ -->\n",
       "<g id=\"edge7\" class=\"edge\">\n",
       "<title>4614690560&#45;&gt;4614691952+</title>\n",
       "<path fill=\"none\" stroke=\"black\" d=\"M502.15,-62.44C511.65,-64.09 520.86,-65.68 529.19,-67.12\"/>\n",
       "<polygon fill=\"black\" stroke=\"black\" points=\"528.38,-70.53 538.83,-68.79 529.57,-63.64 528.38,-70.53\"/>\n",
       "</g>\n",
       "<!-- 4614690560*&#45;&gt;4614690560 -->\n",
       "<g id=\"edge3\" class=\"edge\">\n",
       "<title>4614690560*&#45;&gt;4614690560</title>\n",
       "<path fill=\"none\" stroke=\"black\" d=\"M278.69,-46.5C286.37,-46.5 295.26,-46.5 304.7,-46.5\"/>\n",
       "<polygon fill=\"black\" stroke=\"black\" points=\"304.5,-50 314.5,-46.5 304.5,-43 304.5,-50\"/>\n",
       "</g>\n",
       "<!-- 4614753056 -->\n",
       "<g id=\"node9\" class=\"node\">\n",
       "<title>4614753056</title>\n",
       "<polygon fill=\"none\" stroke=\"black\" points=\"2.62,-1.5 2.62,-37.5 185.62,-37.5 185.62,-1.5 2.62,-1.5\"/>\n",
       "<text text-anchor=\"middle\" x=\"13.62\" y=\"-14.7\" font-family=\"Times,serif\" font-size=\"14.00\">a</text>\n",
       "<polyline fill=\"none\" stroke=\"black\" points=\"24.62,-2 24.62,-37.5\"/>\n",
       "<text text-anchor=\"middle\" x=\"64.5\" y=\"-14.7\" font-family=\"Times,serif\" font-size=\"14.00\">data 2.0000</text>\n",
       "<polyline fill=\"none\" stroke=\"black\" points=\"104.38,-2 104.38,-37.5\"/>\n",
       "<text text-anchor=\"middle\" x=\"145\" y=\"-14.7\" font-family=\"Times,serif\" font-size=\"14.00\">grad 0.0000</text>\n",
       "</g>\n",
       "<!-- 4614753056&#45;&gt;4614690560* -->\n",
       "<g id=\"edge4\" class=\"edge\">\n",
       "<title>4614753056&#45;&gt;4614690560*</title>\n",
       "<path fill=\"none\" stroke=\"black\" d=\"M185.81,-35.28C195.45,-36.96 204.82,-38.59 213.29,-40.07\"/>\n",
       "<polygon fill=\"black\" stroke=\"black\" points=\"212.65,-43.51 223.1,-41.77 213.85,-36.61 212.65,-43.51\"/>\n",
       "</g>\n",
       "<!-- 4614180816 -->\n",
       "<g id=\"node10\" class=\"node\">\n",
       "<title>4614180816</title>\n",
       "<polygon fill=\"none\" stroke=\"black\" points=\"631.12,-0.5 631.12,-36.5 812.62,-36.5 812.62,-0.5 631.12,-0.5\"/>\n",
       "<text text-anchor=\"middle\" x=\"641.38\" y=\"-13.7\" font-family=\"Times,serif\" font-size=\"14.00\">f</text>\n",
       "<polyline fill=\"none\" stroke=\"black\" points=\"651.62,-1 651.62,-36.5\"/>\n",
       "<text text-anchor=\"middle\" x=\"691.5\" y=\"-13.7\" font-family=\"Times,serif\" font-size=\"14.00\">data 2.0000</text>\n",
       "<polyline fill=\"none\" stroke=\"black\" points=\"731.38,-1 731.38,-36.5\"/>\n",
       "<text text-anchor=\"middle\" x=\"772\" y=\"-13.7\" font-family=\"Times,serif\" font-size=\"14.00\">grad 4.0000</text>\n",
       "</g>\n",
       "<!-- 4614180816&#45;&gt;4614689792* -->\n",
       "<g id=\"edge6\" class=\"edge\">\n",
       "<title>4614180816&#45;&gt;4614689792*</title>\n",
       "<path fill=\"none\" stroke=\"black\" d=\"M812.69,-34.36C821.94,-36 830.93,-37.58 839.08,-39.02\"/>\n",
       "<polygon fill=\"black\" stroke=\"black\" points=\"838.41,-42.46 848.87,-40.75 839.63,-35.57 838.41,-42.46\"/>\n",
       "</g>\n",
       "</g>\n",
       "</svg>\n"
      ],
      "text/plain": [
       "<graphviz.graphs.Digraph at 0x112f91550>"
      ]
     },
     "execution_count": 84,
     "metadata": {},
     "output_type": "execute_result"
    }
   ],
   "source": [
    "f.grad = 4.0\n",
    "d.grad = 2.0\n",
    "draw_dot(L)"
   ]
  },
  {
   "cell_type": "markdown",
   "metadata": {},
   "source": [
    "Let's double check our work by running test_gradient"
   ]
  },
  {
   "cell_type": "code",
   "execution_count": 85,
   "metadata": {},
   "outputs": [
    {
     "name": "stdout",
     "output_type": "stream",
     "text": [
      "3.9999999999995595\n"
     ]
    }
   ],
   "source": [
    "def test_gradient():\n",
    "    h = 0.001\n",
    "\n",
    "    a = Value(2.0, label='a')\n",
    "    b = Value(-3.0, label='b')\n",
    "    c = Value(10.0, label='c')\n",
    "    e = a*b\n",
    "    e.label = 'e'\n",
    "    d = e + c\n",
    "    d.label = 'd'\n",
    "    f = Value(-2.0, label='f')\n",
    "    L = d * f; L.label = 'L'\n",
    "    L1 = L.data\n",
    "\n",
    "    a = Value(2.0 , label='a')\n",
    "    b = Value(-3.0, label='b')\n",
    "    c = Value(10.0, label='c')\n",
    "    e = a*b\n",
    "    e.label = 'e'\n",
    "    d = e + c\n",
    "    d.label = 'd'\n",
    "    f = Value(-2.0 + h, label='f')\n",
    "    L = d * f; L.label = 'L'\n",
    "    L2 = L.data\n",
    "    # The derivative of L with respect to a\n",
    "    # Because we are increasing a by 0.001, we are seeing how that change changes L\n",
    "    print((L2 - L1)/h)\n",
    "test_gradient()\n"
   ]
  },
  {
   "cell_type": "markdown",
   "metadata": {},
   "source": [
    "The gradient of L with respect to f is 4.0, so we are correct"
   ]
  },
  {
   "cell_type": "markdown",
   "metadata": {},
   "source": [
    "Now we will derive dL/dc, the derive of L with respect to c.\n",
    "We know how L is sensitive to d, but c is 2 steps away.\n",
    "We know how c impacts d, and how d impacts L, so somehow c will impact L\n",
    "\n",
    "First, we must know what is the derive of d with respect to c, dd/dc?"
   ]
  },
  {
   "cell_type": "markdown",
   "metadata": {},
   "source": [
    "d = c + e\n",
    "\n",
    "(f(x+h) - f(x))/h as h -> 0\n",
    "(f(c+h) - f(c)/h)   # x = c\n",
    "((c+h)+ e - (c+e))/h # f(x) = x + e, therefore f(c+h) = c + h + e\n",
    "(c + h + e - c - e)/h\n",
    "h/h\n",
    "1.0\n",
    "\n",
    "By symmetry, dd/de = 1.0. \n",
    "\n",
    "We call these two the local derivatives.\n"
   ]
  },
  {
   "cell_type": "markdown",
   "metadata": {},
   "source": [
    "Next, we will the chain rule to calculate the derive of c with respect to L\n",
    "\n",
    "If a variable z depends on variable y which depends on x, then z depends on x through intermediate variable y. In which case,\n",
    "\n",
    "dz/dx = dz/dy * dy/dx\n",
    "\n",
    "So basically, just multiple the derivatives together"
   ]
  }
 ],
 "metadata": {
  "kernelspec": {
   "display_name": "Python 3",
   "language": "python",
   "name": "python3"
  },
  "language_info": {
   "codemirror_mode": {
    "name": "ipython",
    "version": 3
   },
   "file_extension": ".py",
   "mimetype": "text/x-python",
   "name": "python",
   "nbconvert_exporter": "python",
   "pygments_lexer": "ipython3",
   "version": "3.9.6"
  }
 },
 "nbformat": 4,
 "nbformat_minor": 2
}
